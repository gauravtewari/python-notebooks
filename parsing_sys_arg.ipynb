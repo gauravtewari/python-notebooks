{
 "cells": [
  {
   "cell_type": "code",
   "execution_count": 3,
   "metadata": {},
   "outputs": [
    {
     "name": "stdout",
     "output_type": "stream",
     "text": [
      "234234\n",
      "0\n",
      "234234\n",
      "<class 'int'>\n",
      "<class 'int'>\n"
     ]
    }
   ],
   "source": [
    "arg_sys_share='25%+300'\n",
    "arg_sys_share='25%'\n",
    "arg_sys_share='234234'\n",
    "print(arg_sys_share)\n",
    "arg_sys_share_perc=None\n",
    "arg_sys_share_num_trans=None\n",
    "\n",
    "if('+' in arg_sys_share):\n",
    "    sys_share_list = arg_sys_share.split('+')\n",
    "    sys_share_list = [item.strip() for item in sys_share_list]\n",
    "    assert(len(sys_share_list) == 2), f\"Sysmem Share: {arg_sys_share} not in correct format\"\n",
    "    print(sys_share_list)\n",
    "    share_perc_str=None\n",
    "    share_num_str=None\n",
    "    # assert that only one can be a percentage\n",
    "    if (sys_share_list[0].endswith('%')):\n",
    "        assert(not sys_share_list[1].endswith('%')), f\"{arg_sys_share} is in wrong format. Only one can be percentage\"\n",
    "        share_perc_str=sys_share_list[0][:-1] # Remove the % sign from end\n",
    "        share_num_str=sys_share_list[1]\n",
    "    elif (sys_share_list[1].endswith('%')):\n",
    "        assert(not sys_share_list[0].endswith('%')), f\"{arg_sys_share} is in wrong format. Only one can be percentage\"\n",
    "        share_perc_str=sys_share_list[1][:-1] # remove the % sign from end\n",
    "        share_num_str=sys_share_list[0]\n",
    "    else:\n",
    "        print(\"Error f{arg_sys_share} is not in correct format\")\n",
    "    try:\n",
    "        arg_sys_share_perc = int(share_perc_str)\n",
    "        arg_sys_share_num_trans = int(share_num_str)\n",
    "    except ValueError:\n",
    "        print(f\"ERROR: Numbers in {arg_sys_share} are not numbers!!\")\n",
    "        # program should exit here\n",
    "else:\n",
    "    if(arg_sys_share.endswith('%')):\n",
    "        try:\n",
    "            arg_sys_share_perc = int(arg_sys_share[:-1])\n",
    "            arg_sys_share_num_trans = 0\n",
    "        except ValueError:\n",
    "            print(f\"ERROR: Numbers in {arg_sys_share} are not numbers!!\")\n",
    "            # program should exit here\n",
    "    else:\n",
    "        # it is just number of transactions specified\n",
    "        try:\n",
    "            arg_sys_share_num_trans = int(arg_sys_share)\n",
    "            arg_sys_share_perc = 0\n",
    "        except ValueError:\n",
    "            print(f\"ERROR: Numbers in {arg_sys_share} are not numbers!!\")\n",
    "            # program should exit here            \n",
    "print(arg_sys_share_perc)\n",
    "print(arg_sys_share_num_trans)\n",
    "print(type(arg_sys_share_perc))\n",
    "print(type(arg_sys_share_num_trans))\n"
   ]
  },
  {
   "cell_type": "code",
   "execution_count": 2,
   "metadata": {},
   "outputs": [
    {
     "name": "stdout",
     "output_type": "stream",
     "text": [
      "Hi\n",
      "Jacob\n",
      "Bye\n"
     ]
    }
   ],
   "source": [
    "name='Jacob'\n",
    "print(f\"\"\"Hi\\n{name}\\nBye\"\"\")"
   ]
  },
  {
   "cell_type": "code",
   "execution_count": null,
   "metadata": {},
   "outputs": [],
   "source": []
  }
 ],
 "metadata": {
  "kernelspec": {
   "display_name": "Python 3",
   "language": "python",
   "name": "python3"
  },
  "language_info": {
   "codemirror_mode": {
    "name": "ipython",
    "version": 3
   },
   "file_extension": ".py",
   "mimetype": "text/x-python",
   "name": "python",
   "nbconvert_exporter": "python",
   "pygments_lexer": "ipython3",
   "version": "3.7.4"
  }
 },
 "nbformat": 4,
 "nbformat_minor": 4
}
