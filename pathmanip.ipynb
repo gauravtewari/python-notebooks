{
 "cells": [
  {
   "cell_type": "code",
   "execution_count": 2,
   "metadata": {},
   "outputs": [
    {
     "name": "stdout",
     "output_type": "stream",
     "text": [
      "/path/to/the/file/file.csv.gz\n",
      "/path/to/the/file\n",
      "file.csv.gz\n",
      "file.csv\n",
      ".gz\n"
     ]
    }
   ],
   "source": [
    "import os\n",
    "import re\n",
    "file_name = '/path/to/the/file/file.csv.gz'\n",
    "_dir = os.path.dirname(file_name)\n",
    "_file_with_ext = os.path.basename(file_name)\n",
    "_file, _ext = os.path.splitext(_file_with_ext)\n",
    "print(file_name)\n",
    "print(_dir)\n",
    "print(_file_with_ext)\n",
    "print(_file)\n",
    "print(_ext)"
   ]
  },
  {
   "cell_type": "code",
   "execution_count": 5,
   "metadata": {},
   "outputs": [
    {
     "name": "stdout",
     "output_type": "stream",
     "text": [
      "/path/to/the/file\n",
      "prefix_file_suffix.csv.gz\n"
     ]
    }
   ],
   "source": [
    "filename='/path/to/the/file/prefix_file_suffix.csv.gz'\n",
    "_dir = os.path.dirname(filename)\n",
    "_file = os.path.basename(filename)\n",
    "print(_dir)\n",
    "print(_file)"
   ]
  },
  {
   "cell_type": "code",
   "execution_count": 4,
   "metadata": {},
   "outputs": [
    {
     "name": "stdout",
     "output_type": "stream",
     "text": [
      "file.csv.gz\n"
     ]
    }
   ],
   "source": [
    "print(_file)"
   ]
  },
  {
   "cell_type": "code",
   "execution_count": 6,
   "metadata": {},
   "outputs": [
    {
     "name": "stdout",
     "output_type": "stream",
     "text": [
      "('', 'prefix_file_suffix', '.csv.gz')\n"
     ]
    }
   ],
   "source": [
    "pattern='(.*)(prefix_.*_suffix)(.*)'\n",
    "match=re.search(pattern, _file)\n",
    "print(match.groups())\n"
   ]
  },
  {
   "cell_type": "code",
   "execution_count": 7,
   "metadata": {},
   "outputs": [
    {
     "name": "stdout",
     "output_type": "stream",
     "text": [
      "prefix_file_suffix\n",
      "/path/to/the/file\\prefix_file_suffix.csv\n"
     ]
    }
   ],
   "source": [
    "def split_path(filename, pattern):\n",
    "    dirname = os.path.dirname(filename)\n",
    "    match = re.search(pattern, os.path.basename(filename))\n",
    "    if(match):\n",
    "        return dirname, match.groups()\n",
    "    else:\n",
    "        return dirname, None\n",
    "    \n",
    "dirname, match = split_path(filename, '(.*)(prefix_.*_suffix)(.*)')\n",
    "print(match[1])\n",
    "print(os.path.join(dirname, match[1] + \".csv\"))"
   ]
  },
  {
   "cell_type": "code",
   "execution_count": 9,
   "metadata": {},
   "outputs": [
    {
     "name": "stdout",
     "output_type": "stream",
     "text": [
      "/new/path/to/file/prefix-file-suffix.info.csv\n"
     ]
    }
   ],
   "source": [
    "newpath='/new/path/to/file/prefix-file-suffix.info.csv'\n",
    "print(newpath)"
   ]
  },
  {
   "cell_type": "code",
   "execution_count": 12,
   "metadata": {},
   "outputs": [
    {
     "name": "stdout",
     "output_type": "stream",
     "text": [
      "/new/path/to/file ('', 'prefix-file-suffix', '.info.csv')\n",
      "prefix-file-suffix\n"
     ]
    }
   ],
   "source": [
    "dirname, match = split_path(newpath, '(.*)(prefix-.*suffix)(.*)')\n",
    "print(dirname, match)\n",
    "print(match[1])"
   ]
  }
 ],
 "metadata": {
  "kernelspec": {
   "display_name": "Python 3",
   "language": "python",
   "name": "python3"
  },
  "language_info": {
   "codemirror_mode": {
    "name": "ipython",
    "version": 3
   },
   "file_extension": ".py",
   "mimetype": "text/x-python",
   "name": "python",
   "nbconvert_exporter": "python",
   "pygments_lexer": "ipython3",
   "version": "3.7.4"
  }
 },
 "nbformat": 4,
 "nbformat_minor": 4
}
