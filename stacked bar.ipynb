{
 "cells": [
  {
   "cell_type": "code",
   "execution_count": 1,
   "metadata": {},
   "outputs": [],
   "source": [
    "import numpy as np\n",
    "import matplotlib.pyplot as plt"
   ]
  },
  {
   "cell_type": "code",
   "execution_count": 6,
   "metadata": {},
   "outputs": [],
   "source": [
    "total=5\n",
    "data1 = (20, 35, 30, 35, 27)\n",
    "data2 = (25, 32, 34, 20, 25)\n",
    "x_loc = np.arange(total)\n",
    "width=0.35"
   ]
  },
  {
   "cell_type": "code",
   "execution_count": 17,
   "metadata": {},
   "outputs": [
    {
     "data": {
      "image/png": "[encoded data removed]",
      "text/plain": [
       "<Figure size 432x288 with 1 Axes>"
      ]
     },
     "metadata": {
      "needs_background": "light"
     },
     "output_type": "display_data"
    }
   ],
   "source": [
    "legend_handle=[]\n",
    "legend_title=[]\n",
    "p=plt.bar(x=x_loc, height=data1, width=width)\n",
    "legend_handle.append(p[0])\n",
    "legend_title.append('data1')\n",
    "p=plt.bar(x=x_loc, height=data2, width=width, bottom=data1)\n",
    "legend_handle.append(p[0])\n",
    "legend_title.append('data2')\n",
    "plt.ylabel('score')\n",
    "plt.xlabel('samples')\n",
    "plt.title(\"Bar Chart\")\n",
    "plt.legend(tuple(legend_handle), tuple(legend_title))\n",
    "plt.xticks([]) # disable x labels\n",
    "plt.show()"
   ]
  },
  {
   "cell_type": "code",
   "execution_count": null,
   "metadata": {},
   "outputs": [],
   "source": []
  }
 ],
 "metadata": {
  "kernelspec": {
   "display_name": "Python 3",
   "language": "python",
   "name": "python3"
  },
  "language_info": {
   "codemirror_mode": {
    "name": "ipython",
    "version": 3
   },
   "file_extension": ".py",
   "mimetype": "text/x-python",
   "name": "python",
   "nbconvert_exporter": "python",
   "pygments_lexer": "ipython3",
   "version": "3.7.4"
  }
 },
 "nbformat": 4,
 "nbformat_minor": 4
}
